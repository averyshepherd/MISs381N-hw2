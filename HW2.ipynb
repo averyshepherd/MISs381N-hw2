{
 "cells": [
  {
   "cell_type": "code",
   "execution_count": 1,
   "metadata": {},
   "outputs": [
    {
     "name": "stdout",
     "output_type": "stream",
     "text": [
      "Populating the interactive namespace from numpy and matplotlib\n"
     ]
    }
   ],
   "source": [
    "from pandas import Series, DataFrame\n",
    "import pandas as pd\n",
    "%pylab inline"
   ]
  },
  {
   "cell_type": "code",
   "execution_count": 289,
   "metadata": {},
   "outputs": [
    {
     "data": {
      "text/plain": [
       "Unnamed: 0                                                               0\n",
       "CAMIS                                                             30112340\n",
       "DBA                                                                WENDY'S\n",
       "BORO                                                              BROOKLYN\n",
       "BUILDING                                                               469\n",
       "STREET                                                     FLATBUSH AVENUE\n",
       "ZIPCODE                                                              11225\n",
       "PHONE                                                           7182875005\n",
       "CUISINE DESCRIPTION                                             Hamburgers\n",
       "INSPECTION DATE                                                 12/30/2014\n",
       "ACTION                     Violations were cited in the following area(s).\n",
       "VIOLATION CODE                                                         06C\n",
       "VIOLATION DESCRIPTION    Food not protected from potential source of co...\n",
       "CRITICAL FLAG                                                     Critical\n",
       "SCORE                                                                    8\n",
       "GRADE                                                                    A\n",
       "GRADE DATE                                                      12/30/2014\n",
       "RECORD DATE                                                     02/12/2015\n",
       "INSPECTION TYPE                           Cycle Inspection / Re-inspection\n",
       "Name: 0, dtype: object"
      ]
     },
     "execution_count": 289,
     "metadata": {},
     "output_type": "execute_result"
    }
   ],
   "source": [
    "df = pd.read_csv('NYC_Restaurants.csv', dtype=str)\n",
    "df.iloc[0]"
   ]
  },
  {
   "cell_type": "markdown",
   "metadata": {},
   "source": [
    "### [Q1, 6 points] Create a unique name for each restaurant"
   ]
  },
  {
   "cell_type": "code",
   "execution_count": 313,
   "metadata": {},
   "outputs": [
    {
     "data": {
      "text/html": [
       "<div>\n",
       "<style scoped>\n",
       "    .dataframe tbody tr th:only-of-type {\n",
       "        vertical-align: middle;\n",
       "    }\n",
       "\n",
       "    .dataframe tbody tr th {\n",
       "        vertical-align: top;\n",
       "    }\n",
       "\n",
       "    .dataframe thead th {\n",
       "        text-align: right;\n",
       "    }\n",
       "</style>\n",
       "<table border=\"1\" class=\"dataframe\">\n",
       "  <thead>\n",
       "    <tr style=\"text-align: right;\">\n",
       "      <th></th>\n",
       "      <th>Unnamed: 0</th>\n",
       "      <th>CAMIS</th>\n",
       "      <th>DBA</th>\n",
       "      <th>BORO</th>\n",
       "      <th>BUILDING</th>\n",
       "      <th>STREET</th>\n",
       "      <th>ZIPCODE</th>\n",
       "      <th>PHONE</th>\n",
       "      <th>CUISINE DESCRIPTION</th>\n",
       "      <th>INSPECTION DATE</th>\n",
       "      <th>ACTION</th>\n",
       "      <th>VIOLATION CODE</th>\n",
       "      <th>VIOLATION DESCRIPTION</th>\n",
       "      <th>CRITICAL FLAG</th>\n",
       "      <th>SCORE</th>\n",
       "      <th>GRADE</th>\n",
       "      <th>GRADE DATE</th>\n",
       "      <th>RECORD DATE</th>\n",
       "      <th>INSPECTION TYPE</th>\n",
       "      <th>RESTAURANT</th>\n",
       "    </tr>\n",
       "  </thead>\n",
       "  <tbody>\n",
       "    <tr>\n",
       "      <th>0</th>\n",
       "      <td>0</td>\n",
       "      <td>30112340</td>\n",
       "      <td>WENDY'S</td>\n",
       "      <td>BROOKLYN</td>\n",
       "      <td>469</td>\n",
       "      <td>FLATBUSH AVENUE</td>\n",
       "      <td>11225</td>\n",
       "      <td>7182875005</td>\n",
       "      <td>Hamburgers</td>\n",
       "      <td>12/30/2014</td>\n",
       "      <td>Violations were cited in the following area(s).</td>\n",
       "      <td>06C</td>\n",
       "      <td>Food not protected from potential source of co...</td>\n",
       "      <td>Critical</td>\n",
       "      <td>8</td>\n",
       "      <td>A</td>\n",
       "      <td>12/30/2014</td>\n",
       "      <td>02/12/2015</td>\n",
       "      <td>Cycle Inspection / Re-inspection</td>\n",
       "      <td>WENDY'S 469 FLATBUSH AVENUE 11225 BROOKLYN</td>\n",
       "    </tr>\n",
       "    <tr>\n",
       "      <th>1</th>\n",
       "      <td>1</td>\n",
       "      <td>30112340</td>\n",
       "      <td>WENDY'S</td>\n",
       "      <td>BROOKLYN</td>\n",
       "      <td>469</td>\n",
       "      <td>FLATBUSH AVENUE</td>\n",
       "      <td>11225</td>\n",
       "      <td>7182875005</td>\n",
       "      <td>Hamburgers</td>\n",
       "      <td>12/30/2014</td>\n",
       "      <td>Violations were cited in the following area(s).</td>\n",
       "      <td>10F</td>\n",
       "      <td>Non-food contact surface improperly constructe...</td>\n",
       "      <td>Not Critical</td>\n",
       "      <td>8</td>\n",
       "      <td>A</td>\n",
       "      <td>12/30/2014</td>\n",
       "      <td>02/12/2015</td>\n",
       "      <td>Cycle Inspection / Re-inspection</td>\n",
       "      <td>WENDY'S 469 FLATBUSH AVENUE 11225 BROOKLYN</td>\n",
       "    </tr>\n",
       "    <tr>\n",
       "      <th>2</th>\n",
       "      <td>2</td>\n",
       "      <td>30112340</td>\n",
       "      <td>WENDY'S</td>\n",
       "      <td>BROOKLYN</td>\n",
       "      <td>469</td>\n",
       "      <td>FLATBUSH AVENUE</td>\n",
       "      <td>11225</td>\n",
       "      <td>7182875005</td>\n",
       "      <td>Hamburgers</td>\n",
       "      <td>11/13/2014</td>\n",
       "      <td>Violations were cited in the following area(s).</td>\n",
       "      <td>04H</td>\n",
       "      <td>Raw, cooked or prepared food is adulterated, c...</td>\n",
       "      <td>Critical</td>\n",
       "      <td>16</td>\n",
       "      <td>NaN</td>\n",
       "      <td>NaN</td>\n",
       "      <td>02/12/2015</td>\n",
       "      <td>Cycle Inspection / Initial Inspection</td>\n",
       "      <td>WENDY'S 469 FLATBUSH AVENUE 11225 BROOKLYN</td>\n",
       "    </tr>\n",
       "    <tr>\n",
       "      <th>3</th>\n",
       "      <td>3</td>\n",
       "      <td>30112340</td>\n",
       "      <td>WENDY'S</td>\n",
       "      <td>BROOKLYN</td>\n",
       "      <td>469</td>\n",
       "      <td>FLATBUSH AVENUE</td>\n",
       "      <td>11225</td>\n",
       "      <td>7182875005</td>\n",
       "      <td>Hamburgers</td>\n",
       "      <td>11/13/2014</td>\n",
       "      <td>Violations were cited in the following area(s).</td>\n",
       "      <td>06A</td>\n",
       "      <td>Personal cleanliness inadequate. Outer garment...</td>\n",
       "      <td>Critical</td>\n",
       "      <td>16</td>\n",
       "      <td>NaN</td>\n",
       "      <td>NaN</td>\n",
       "      <td>02/12/2015</td>\n",
       "      <td>Cycle Inspection / Initial Inspection</td>\n",
       "      <td>WENDY'S 469 FLATBUSH AVENUE 11225 BROOKLYN</td>\n",
       "    </tr>\n",
       "    <tr>\n",
       "      <th>4</th>\n",
       "      <td>4</td>\n",
       "      <td>30112340</td>\n",
       "      <td>WENDY'S</td>\n",
       "      <td>BROOKLYN</td>\n",
       "      <td>469</td>\n",
       "      <td>FLATBUSH AVENUE</td>\n",
       "      <td>11225</td>\n",
       "      <td>7182875005</td>\n",
       "      <td>Hamburgers</td>\n",
       "      <td>11/13/2014</td>\n",
       "      <td>Violations were cited in the following area(s).</td>\n",
       "      <td>10F</td>\n",
       "      <td>Non-food contact surface improperly constructe...</td>\n",
       "      <td>Not Critical</td>\n",
       "      <td>16</td>\n",
       "      <td>NaN</td>\n",
       "      <td>NaN</td>\n",
       "      <td>02/12/2015</td>\n",
       "      <td>Cycle Inspection / Initial Inspection</td>\n",
       "      <td>WENDY'S 469 FLATBUSH AVENUE 11225 BROOKLYN</td>\n",
       "    </tr>\n",
       "    <tr>\n",
       "      <th>5</th>\n",
       "      <td>5</td>\n",
       "      <td>40356068</td>\n",
       "      <td>TOV KOSHER KITCHEN</td>\n",
       "      <td>QUEENS</td>\n",
       "      <td>97-22</td>\n",
       "      <td>63 ROAD</td>\n",
       "      <td>11374</td>\n",
       "      <td>7188967788</td>\n",
       "      <td>Jewish/Kosher</td>\n",
       "      <td>11/24/2014</td>\n",
       "      <td>Violations were cited in the following area(s).</td>\n",
       "      <td>02B</td>\n",
       "      <td>Hot food item not held at or above 140º F.</td>\n",
       "      <td>Critical</td>\n",
       "      <td>20</td>\n",
       "      <td>Z</td>\n",
       "      <td>11/24/2014</td>\n",
       "      <td>02/12/2015</td>\n",
       "      <td>Cycle Inspection / Re-inspection</td>\n",
       "      <td>TOV KOSHER KITCHEN 97-22 63 ROAD 11374 QUEENS</td>\n",
       "    </tr>\n",
       "    <tr>\n",
       "      <th>6</th>\n",
       "      <td>6</td>\n",
       "      <td>40356068</td>\n",
       "      <td>TOV KOSHER KITCHEN</td>\n",
       "      <td>QUEENS</td>\n",
       "      <td>97-22</td>\n",
       "      <td>63 ROAD</td>\n",
       "      <td>11374</td>\n",
       "      <td>7188967788</td>\n",
       "      <td>Jewish/Kosher</td>\n",
       "      <td>11/24/2014</td>\n",
       "      <td>Violations were cited in the following area(s).</td>\n",
       "      <td>06A</td>\n",
       "      <td>Personal cleanliness inadequate. Outer garment...</td>\n",
       "      <td>Critical</td>\n",
       "      <td>20</td>\n",
       "      <td>Z</td>\n",
       "      <td>11/24/2014</td>\n",
       "      <td>02/12/2015</td>\n",
       "      <td>Cycle Inspection / Re-inspection</td>\n",
       "      <td>TOV KOSHER KITCHEN 97-22 63 ROAD 11374 QUEENS</td>\n",
       "    </tr>\n",
       "    <tr>\n",
       "      <th>7</th>\n",
       "      <td>7</td>\n",
       "      <td>40356068</td>\n",
       "      <td>TOV KOSHER KITCHEN</td>\n",
       "      <td>QUEENS</td>\n",
       "      <td>97-22</td>\n",
       "      <td>63 ROAD</td>\n",
       "      <td>11374</td>\n",
       "      <td>7188967788</td>\n",
       "      <td>Jewish/Kosher</td>\n",
       "      <td>11/24/2014</td>\n",
       "      <td>Violations were cited in the following area(s).</td>\n",
       "      <td>06C</td>\n",
       "      <td>Food not protected from potential source of co...</td>\n",
       "      <td>Critical</td>\n",
       "      <td>20</td>\n",
       "      <td>Z</td>\n",
       "      <td>11/24/2014</td>\n",
       "      <td>02/12/2015</td>\n",
       "      <td>Cycle Inspection / Re-inspection</td>\n",
       "      <td>TOV KOSHER KITCHEN 97-22 63 ROAD 11374 QUEENS</td>\n",
       "    </tr>\n",
       "    <tr>\n",
       "      <th>8</th>\n",
       "      <td>8</td>\n",
       "      <td>40356068</td>\n",
       "      <td>TOV KOSHER KITCHEN</td>\n",
       "      <td>QUEENS</td>\n",
       "      <td>97-22</td>\n",
       "      <td>63 ROAD</td>\n",
       "      <td>11374</td>\n",
       "      <td>7188967788</td>\n",
       "      <td>Jewish/Kosher</td>\n",
       "      <td>11/24/2014</td>\n",
       "      <td>Violations were cited in the following area(s).</td>\n",
       "      <td>10F</td>\n",
       "      <td>Non-food contact surface improperly constructe...</td>\n",
       "      <td>Not Critical</td>\n",
       "      <td>20</td>\n",
       "      <td>Z</td>\n",
       "      <td>11/24/2014</td>\n",
       "      <td>02/12/2015</td>\n",
       "      <td>Cycle Inspection / Re-inspection</td>\n",
       "      <td>TOV KOSHER KITCHEN 97-22 63 ROAD 11374 QUEENS</td>\n",
       "    </tr>\n",
       "    <tr>\n",
       "      <th>9</th>\n",
       "      <td>9</td>\n",
       "      <td>40356151</td>\n",
       "      <td>BRUNOS ON THE BOULEVARD</td>\n",
       "      <td>QUEENS</td>\n",
       "      <td>8825</td>\n",
       "      <td>ASTORIA BOULEVARD</td>\n",
       "      <td>11369</td>\n",
       "      <td>7183350505</td>\n",
       "      <td>American</td>\n",
       "      <td>11/15/2014</td>\n",
       "      <td>Violations were cited in the following area(s).</td>\n",
       "      <td>04L</td>\n",
       "      <td>Evidence of mice or live mice present in facil...</td>\n",
       "      <td>Critical</td>\n",
       "      <td>38</td>\n",
       "      <td>Z</td>\n",
       "      <td>11/15/2014</td>\n",
       "      <td>02/12/2015</td>\n",
       "      <td>Cycle Inspection / Re-inspection</td>\n",
       "      <td>BRUNOS ON THE BOULEVARD 8825 ASTORIA BOULEVARD...</td>\n",
       "    </tr>\n",
       "    <tr>\n",
       "      <th>10</th>\n",
       "      <td>10</td>\n",
       "      <td>40356151</td>\n",
       "      <td>BRUNOS ON THE BOULEVARD</td>\n",
       "      <td>QUEENS</td>\n",
       "      <td>8825</td>\n",
       "      <td>ASTORIA BOULEVARD</td>\n",
       "      <td>11369</td>\n",
       "      <td>7183350505</td>\n",
       "      <td>American</td>\n",
       "      <td>11/15/2014</td>\n",
       "      <td>Violations were cited in the following area(s).</td>\n",
       "      <td>06D</td>\n",
       "      <td>Food contact surface not properly washed, rins...</td>\n",
       "      <td>Critical</td>\n",
       "      <td>38</td>\n",
       "      <td>Z</td>\n",
       "      <td>11/15/2014</td>\n",
       "      <td>02/12/2015</td>\n",
       "      <td>Cycle Inspection / Re-inspection</td>\n",
       "      <td>BRUNOS ON THE BOULEVARD 8825 ASTORIA BOULEVARD...</td>\n",
       "    </tr>\n",
       "  </tbody>\n",
       "</table>\n",
       "</div>"
      ],
      "text/plain": [
       "   Unnamed: 0     CAMIS                      DBA      BORO BUILDING  \\\n",
       "0           0  30112340                  WENDY'S  BROOKLYN      469   \n",
       "1           1  30112340                  WENDY'S  BROOKLYN      469   \n",
       "2           2  30112340                  WENDY'S  BROOKLYN      469   \n",
       "3           3  30112340                  WENDY'S  BROOKLYN      469   \n",
       "4           4  30112340                  WENDY'S  BROOKLYN      469   \n",
       "5           5  40356068       TOV KOSHER KITCHEN    QUEENS    97-22   \n",
       "6           6  40356068       TOV KOSHER KITCHEN    QUEENS    97-22   \n",
       "7           7  40356068       TOV KOSHER KITCHEN    QUEENS    97-22   \n",
       "8           8  40356068       TOV KOSHER KITCHEN    QUEENS    97-22   \n",
       "9           9  40356151  BRUNOS ON THE BOULEVARD    QUEENS     8825   \n",
       "10         10  40356151  BRUNOS ON THE BOULEVARD    QUEENS     8825   \n",
       "\n",
       "               STREET ZIPCODE       PHONE CUISINE DESCRIPTION INSPECTION DATE  \\\n",
       "0     FLATBUSH AVENUE   11225  7182875005          Hamburgers      12/30/2014   \n",
       "1     FLATBUSH AVENUE   11225  7182875005          Hamburgers      12/30/2014   \n",
       "2     FLATBUSH AVENUE   11225  7182875005          Hamburgers      11/13/2014   \n",
       "3     FLATBUSH AVENUE   11225  7182875005          Hamburgers      11/13/2014   \n",
       "4     FLATBUSH AVENUE   11225  7182875005          Hamburgers      11/13/2014   \n",
       "5             63 ROAD   11374  7188967788       Jewish/Kosher      11/24/2014   \n",
       "6             63 ROAD   11374  7188967788       Jewish/Kosher      11/24/2014   \n",
       "7             63 ROAD   11374  7188967788       Jewish/Kosher      11/24/2014   \n",
       "8             63 ROAD   11374  7188967788       Jewish/Kosher      11/24/2014   \n",
       "9   ASTORIA BOULEVARD   11369  7183350505           American       11/15/2014   \n",
       "10  ASTORIA BOULEVARD   11369  7183350505           American       11/15/2014   \n",
       "\n",
       "                                             ACTION VIOLATION CODE  \\\n",
       "0   Violations were cited in the following area(s).            06C   \n",
       "1   Violations were cited in the following area(s).            10F   \n",
       "2   Violations were cited in the following area(s).            04H   \n",
       "3   Violations were cited in the following area(s).            06A   \n",
       "4   Violations were cited in the following area(s).            10F   \n",
       "5   Violations were cited in the following area(s).            02B   \n",
       "6   Violations were cited in the following area(s).            06A   \n",
       "7   Violations were cited in the following area(s).            06C   \n",
       "8   Violations were cited in the following area(s).            10F   \n",
       "9   Violations were cited in the following area(s).            04L   \n",
       "10  Violations were cited in the following area(s).            06D   \n",
       "\n",
       "                                VIOLATION DESCRIPTION CRITICAL FLAG SCORE  \\\n",
       "0   Food not protected from potential source of co...      Critical     8   \n",
       "1   Non-food contact surface improperly constructe...  Not Critical     8   \n",
       "2   Raw, cooked or prepared food is adulterated, c...      Critical    16   \n",
       "3   Personal cleanliness inadequate. Outer garment...      Critical    16   \n",
       "4   Non-food contact surface improperly constructe...  Not Critical    16   \n",
       "5          Hot food item not held at or above 140º F.      Critical    20   \n",
       "6   Personal cleanliness inadequate. Outer garment...      Critical    20   \n",
       "7   Food not protected from potential source of co...      Critical    20   \n",
       "8   Non-food contact surface improperly constructe...  Not Critical    20   \n",
       "9   Evidence of mice or live mice present in facil...      Critical    38   \n",
       "10  Food contact surface not properly washed, rins...      Critical    38   \n",
       "\n",
       "   GRADE  GRADE DATE RECORD DATE                        INSPECTION TYPE  \\\n",
       "0      A  12/30/2014  02/12/2015       Cycle Inspection / Re-inspection   \n",
       "1      A  12/30/2014  02/12/2015       Cycle Inspection / Re-inspection   \n",
       "2    NaN         NaN  02/12/2015  Cycle Inspection / Initial Inspection   \n",
       "3    NaN         NaN  02/12/2015  Cycle Inspection / Initial Inspection   \n",
       "4    NaN         NaN  02/12/2015  Cycle Inspection / Initial Inspection   \n",
       "5      Z  11/24/2014  02/12/2015       Cycle Inspection / Re-inspection   \n",
       "6      Z  11/24/2014  02/12/2015       Cycle Inspection / Re-inspection   \n",
       "7      Z  11/24/2014  02/12/2015       Cycle Inspection / Re-inspection   \n",
       "8      Z  11/24/2014  02/12/2015       Cycle Inspection / Re-inspection   \n",
       "9      Z  11/15/2014  02/12/2015       Cycle Inspection / Re-inspection   \n",
       "10     Z  11/15/2014  02/12/2015       Cycle Inspection / Re-inspection   \n",
       "\n",
       "                                           RESTAURANT  \n",
       "0          WENDY'S 469 FLATBUSH AVENUE 11225 BROOKLYN  \n",
       "1          WENDY'S 469 FLATBUSH AVENUE 11225 BROOKLYN  \n",
       "2          WENDY'S 469 FLATBUSH AVENUE 11225 BROOKLYN  \n",
       "3          WENDY'S 469 FLATBUSH AVENUE 11225 BROOKLYN  \n",
       "4          WENDY'S 469 FLATBUSH AVENUE 11225 BROOKLYN  \n",
       "5       TOV KOSHER KITCHEN 97-22 63 ROAD 11374 QUEENS  \n",
       "6       TOV KOSHER KITCHEN 97-22 63 ROAD 11374 QUEENS  \n",
       "7       TOV KOSHER KITCHEN 97-22 63 ROAD 11374 QUEENS  \n",
       "8       TOV KOSHER KITCHEN 97-22 63 ROAD 11374 QUEENS  \n",
       "9   BRUNOS ON THE BOULEVARD 8825 ASTORIA BOULEVARD...  \n",
       "10  BRUNOS ON THE BOULEVARD 8825 ASTORIA BOULEVARD...  "
      ]
     },
     "execution_count": 313,
     "metadata": {},
     "output_type": "execute_result"
    }
   ],
   "source": [
    "df['RESTAURANT'] = df['DBA']+ ' ' + df['BUILDING']+ ' ' + df['STREET']+ ' ' + df['ZIPCODE']+ ' ' + df['BORO'] \n",
    "df.loc[:10]"
   ]
  },
  {
   "cell_type": "markdown",
   "metadata": {},
   "source": [
    "### [Q2, 6 points] How many restaurants are included in the data?"
   ]
  },
  {
   "cell_type": "code",
   "execution_count": 291,
   "metadata": {},
   "outputs": [
    {
     "data": {
      "text/plain": [
       "10114"
      ]
     },
     "execution_count": 291,
     "metadata": {},
     "output_type": "execute_result"
    }
   ],
   "source": [
    "len(df['RESTAURANT'].drop_duplicates())"
   ]
  },
  {
   "cell_type": "markdown",
   "metadata": {},
   "source": [
    "### [Q3, 6 points] How many chains are there?"
   ]
  },
  {
   "cell_type": "code",
   "execution_count": 292,
   "metadata": {},
   "outputs": [
    {
     "data": {
      "text/plain": [
       "368"
      ]
     },
     "execution_count": 292,
     "metadata": {},
     "output_type": "execute_result"
    }
   ],
   "source": [
    "mask = df[['DBA','RESTAURANT']].drop_duplicates()['DBA'].value_counts() > 1\n",
    "resturaunts = df[['DBA','RESTAURANT']].drop_duplicates()['DBA'].value_counts()\n",
    "chains = resturaunts[mask]\n",
    "len(chains)"
   ]
  },
  {
   "cell_type": "markdown",
   "metadata": {},
   "source": [
    "### [Q4, 6 points] Plot a bar graph of the top 20 most popular chains."
   ]
  },
  {
   "cell_type": "code",
   "execution_count": 293,
   "metadata": {},
   "outputs": [
    {
     "data": {
      "text/plain": [
       "<AxesSubplot:>"
      ]
     },
     "execution_count": 293,
     "metadata": {},
     "output_type": "execute_result"
    },
    {
     "data": {
      "image/png": "[encoded data removed]",
      "text/plain": [
       "<Figure size 432x288 with 1 Axes>"
      ]
     },
     "metadata": {
      "needs_background": "light"
     },
     "output_type": "display_data"
    }
   ],
   "source": [
    "chains.iloc[:20].plot(kind = 'bar')"
   ]
  },
  {
   "cell_type": "markdown",
   "metadata": {},
   "source": [
    "### [Q5, 6 points] What fraction of all restaurants are chain restaurants?"
   ]
  },
  {
   "cell_type": "code",
   "execution_count": 294,
   "metadata": {},
   "outputs": [
    {
     "data": {
      "text/plain": [
       "0.16472216729286138"
      ]
     },
     "execution_count": 294,
     "metadata": {},
     "output_type": "execute_result"
    }
   ],
   "source": [
    "sum(chains) / sum(resturaunts)"
   ]
  },
  {
   "cell_type": "markdown",
   "metadata": {},
   "source": [
    "### [Q6, 6 points] Plot the number of non-chain restaurants in each boro"
   ]
  },
  {
   "cell_type": "code",
   "execution_count": 296,
   "metadata": {},
   "outputs": [
    {
     "data": {
      "text/plain": [
       "<AxesSubplot:>"
      ]
     },
     "execution_count": 296,
     "metadata": {},
     "output_type": "execute_result"
    },
    {
     "data": {
      "image/png": "[encoded data removed]",
      "text/plain": [
       "<Figure size 432x288 with 1 Axes>"
      ]
     },
     "metadata": {
      "needs_background": "light"
     },
     "output_type": "display_data"
    }
   ],
   "source": [
    "mask = (df[['DBA','RESTAURANT']].drop_duplicates()['DBA'].value_counts() == 1)\n",
    "\n",
    "non_chains = df[['DBA','RESTAURANT']].drop_duplicates()['DBA'].value_counts()[mask]\n",
    "\n",
    "mask = (df['BORO'] == 'Missing')\n",
    "df.loc[mask, 'BORO'] = np.nan\n",
    "\n",
    "non_duplicates = df[['DBA','RESTAURANT', 'BORO', 'CUISINE DESCRIPTION']].drop_duplicates()\n",
    "\n",
    "\n",
    "non_duplicates[non_duplicates['DBA'].isin(non_chains.keys())]['BORO'].value_counts().plot(kind = 'bar')"
   ]
  },
  {
   "cell_type": "markdown",
   "metadata": {},
   "source": [
    "### [Q7, 8 points] Plot the fraction of non-chain restaurants in each boro."
   ]
  },
  {
   "cell_type": "code",
   "execution_count": 297,
   "metadata": {},
   "outputs": [
    {
     "data": {
      "text/plain": [
       "<AxesSubplot:>"
      ]
     },
     "execution_count": 297,
     "metadata": {},
     "output_type": "execute_result"
    },
    {
     "data": {
      "image/png": "[encoded data removed]",
      "text/plain": [
       "<Figure size 432x288 with 1 Axes>"
      ]
     },
     "metadata": {
      "needs_background": "light"
     },
     "output_type": "display_data"
    }
   ],
   "source": [
    "(df[df['DBA'].isin(non_chains.keys())]['BORO'].value_counts() / df[~df['DBA'].isin(non_chains.keys())]['BORO'].value_counts()).plot(kind = 'bar')"
   ]
  },
  {
   "cell_type": "markdown",
   "metadata": {},
   "source": [
    "### [Q8, 6 points] Plot the popularity of cuisines."
   ]
  },
  {
   "cell_type": "code",
   "execution_count": 305,
   "metadata": {},
   "outputs": [
    {
     "data": {
      "text/plain": [
       "<AxesSubplot:>"
      ]
     },
     "execution_count": 305,
     "metadata": {},
     "output_type": "execute_result"
    },
    {
     "data": {
      "image/png": "[encoded data removed]",
      "text/plain": [
       "<Figure size 432x288 with 1 Axes>"
      ]
     },
     "metadata": {
      "needs_background": "light"
     },
     "output_type": "display_data"
    }
   ],
   "source": [
    "df[['CUISINE DESCRIPTION','RESTAURANT']].drop_duplicates()['CUISINE DESCRIPTION'].value_counts()[:20].plot(kind = 'bar')"
   ]
  },
  {
   "cell_type": "markdown",
   "metadata": {},
   "source": [
    "### [Q9, 9 points] Plot the cuisines among restaurants which never got cited for violations."
   ]
  },
  {
   "cell_type": "code",
   "execution_count": 310,
   "metadata": {},
   "outputs": [
    {
     "data": {
      "text/plain": [
       "<AxesSubplot:>"
      ]
     },
     "execution_count": 310,
     "metadata": {},
     "output_type": "execute_result"
    },
    {
     "data": {
      "image/png": "[encoded data removed]",
      "text/plain": [
       "<Figure size 432x288 with 1 Axes>"
      ]
     },
     "metadata": {
      "needs_background": "light"
     },
     "output_type": "display_data"
    }
   ],
   "source": [
    "clean_mask = df[['CUISINE DESCRIPTION','RESTAURANT', 'VIOLATION CODE']].drop_duplicates()['VIOLATION CODE'].isnull()\n",
    "df[['CUISINE DESCRIPTION','RESTAURANT', 'VIOLATION CODE']].drop_duplicates()[clean_mask]['CUISINE DESCRIPTION'].value_counts()[:20].plot(kind = 'bar')"
   ]
  },
  {
   "cell_type": "markdown",
   "metadata": {},
   "source": [
    "### [Q10, 6 points] What cuisines tend to be the “cleanest”?"
   ]
  },
  {
   "cell_type": "code",
   "execution_count": 173,
   "metadata": {},
   "outputs": [
    {
     "data": {
      "text/plain": [
       "Barbecue              0.031250\n",
       "Soups & Sandwiches    0.030769\n",
       "Continental           0.028986\n",
       "Other                 0.025547\n",
       "Peruvian              0.023256\n",
       "Russian               0.022857\n",
       "French                0.021667\n",
       "Soul Food             0.019231\n",
       "Tex-Mex               0.018382\n",
       "Turkish               0.017143\n",
       "Name: CUISINE DESCRIPTION, dtype: float64"
      ]
     },
     "execution_count": 173,
     "metadata": {},
     "output_type": "execute_result"
    }
   ],
   "source": [
    "mask = (df[['CUISINE DESCRIPTION','RESTAURANT']].drop_duplicates()['CUISINE DESCRIPTION'].value_counts() >20)\n",
    "big_cuisines = df[['CUISINE DESCRIPTION','RESTAURANT']].drop_duplicates()['CUISINE DESCRIPTION'].value_counts()[mask]\n",
    "\n",
    "top_20 = big_cuisines.keys()\n",
    "\n",
    "mask = df[df['CUISINE DESCRIPTION'].isin(top_20)].drop_duplicates()['VIOLATION CODE'].isnull()\n",
    "clean_rest = df[df['CUISINE DESCRIPTION'].isin(top_20)].drop_duplicates()[mask]['CUISINE DESCRIPTION'].value_counts().reindex(top_20, fill_value=0)\n",
    "\n",
    "total_rest = df[df['CUISINE DESCRIPTION'].isin(top_20)].drop_duplicates()['CUISINE DESCRIPTION'].value_counts().reindex(top_20, fill_value=0)\n",
    "\n",
    "ratios = clean_rest / total_rest\n",
    "\n",
    "ratios.sort_values(ascending = False)[:10]"
   ]
  },
  {
   "cell_type": "markdown",
   "metadata": {},
   "source": [
    "### [Q11, 8 points] What are the most common violations in each borough?"
   ]
  },
  {
   "cell_type": "code",
   "execution_count": 311,
   "metadata": {},
   "outputs": [
    {
     "data": {
      "text/plain": [
       "BORO\n",
       "BRONX            Non-food contact surface improperly constructe...\n",
       "BROOKLYN         Non-food contact surface improperly constructe...\n",
       "MANHATTAN        Non-food contact surface improperly constructe...\n",
       "QUEENS           Non-food contact surface improperly constructe...\n",
       "STATEN ISLAND    Non-food contact surface improperly constructe...\n",
       "dtype: object"
      ]
     },
     "execution_count": 311,
     "metadata": {},
     "output_type": "execute_result"
    }
   ],
   "source": [
    "table = pd.crosstab(index = df['VIOLATION DESCRIPTION'], columns = df['BORO'])\n",
    "table.idxmax()"
   ]
  },
  {
   "cell_type": "markdown",
   "metadata": {},
   "source": [
    "### [Q12, 9 points] What are the most common violations per borough, after normalizing for the relative abundance of each violation? "
   ]
  },
  {
   "cell_type": "code",
   "execution_count": 312,
   "metadata": {},
   "outputs": [
    {
     "data": {
      "text/plain": [
       "BORO\n",
       "BRONX                                  Unprotected food re-served.\n",
       "BROOKLYN         Precooked potentially hazardous food from comm...\n",
       "MANHATTAN        Out-of package sale of tobacco products observed.\n",
       "QUEENS           Caloric content range (minimum to maximum) not...\n",
       "STATEN ISLAND    Eggs found dirty/cracked; liquid, frozen or po...\n",
       "dtype: object"
      ]
     },
     "execution_count": 312,
     "metadata": {},
     "output_type": "execute_result"
    }
   ],
   "source": [
    "violationFrequency = df['VIOLATION DESCRIPTION'].value_counts()\n",
    "norm_table = pd.crosstab(index = df['VIOLATION DESCRIPTION'], columns = df['BORO'], normalize = 'index')\n",
    "norm_table.idxmax()"
   ]
  },
  {
   "cell_type": "markdown",
   "metadata": {},
   "source": [
    "### [Q13, 8 points] How many phone area codes correspond to a single zipcode? "
   ]
  },
  {
   "cell_type": "code",
   "execution_count": 195,
   "metadata": {},
   "outputs": [
    {
     "data": {
      "text/plain": [
       "34"
      ]
     },
     "execution_count": 195,
     "metadata": {},
     "output_type": "execute_result"
    }
   ],
   "source": [
    "df['AREA CODE'] = df['PHONE'].str[:3]\n",
    "mask = (df[['AREA CODE', 'ZIPCODE']].drop_duplicates()['AREA CODE'].value_counts() == 1)\n",
    "len(df[['AREA CODE', 'ZIPCODE']].drop_duplicates()['AREA CODE'].value_counts()[mask])"
   ]
  },
  {
   "cell_type": "markdown",
   "metadata": {},
   "source": [
    "### [Q14, 10 points] Find common misspellings of street names"
   ]
  },
  {
   "cell_type": "code",
   "execution_count": 271,
   "metadata": {
    "scrolled": true
   },
   "outputs": [],
   "source": [
    "def get_type(street):\n",
    "    return street.split()[-1]\n",
    "df['STREET TYPE'] = df['STREET'].apply(get_type)\n",
    "\n",
    "def get_base(street):\n",
    "    return ' '.join(street.split()[:-1])\n",
    "df['STREET BASE'] = df['STREET'].apply(get_base)\n",
    "\n",
    "df['STREET BASE & ZIP'] = df['STREET BASE'].astype(str) + ' ' + df['ZIPCODE'].astype(str)\n",
    "\n",
    "merged = df.merge(df, left_on = 'STREET BASE & ZIP', right_on = 'STREET BASE & ZIP', suffixes = ['-1', '-2'])\n",
    "\n",
    "merged = merged[['STREET BASE & ZIP', 'STREET TYPE-2', 'STREET TYPE-1']].drop_duplicates()"
   ]
  },
  {
   "cell_type": "code",
   "execution_count": 274,
   "metadata": {
    "scrolled": false
   },
   "outputs": [
    {
     "data": {
      "text/plain": [
       "STREET TYPE-1\n",
       "AVE         AVENUE\n",
       "ST          STREET\n",
       "RD            ROAD\n",
       "BOULEARD      BLVD\n",
       "BULEVARD      BLVD\n",
       "dtype: object"
      ]
     },
     "execution_count": 274,
     "metadata": {},
     "output_type": "execute_result"
    }
   ],
   "source": [
    "mask = merged['STREET TYPE-2'] != merged['STREET TYPE-1']\n",
    "street_types = merged[mask][['STREET TYPE-2', 'STREET TYPE-1']]\n",
    "\n",
    "table = pd.crosstab(index = street_types['STREET TYPE-2'], columns = street_types['STREET TYPE-1'])\n",
    "\n",
    "table[['AVE', 'ST', 'RD', 'BOULEARD', 'BULEVARD']].idxmax()"
   ]
  },
  {
   "cell_type": "markdown",
   "metadata": {},
   "source": [
    "AVE and AVENUE are used for the same street 163 times"
   ]
  },
  {
   "cell_type": "code",
   "execution_count": null,
   "metadata": {},
   "outputs": [],
   "source": []
  }
 ],
 "metadata": {
  "kernelspec": {
   "display_name": "Python 3",
   "language": "python",
   "name": "python3"
  },
  "language_info": {
   "codemirror_mode": {
    "name": "ipython",
    "version": 3
   },
   "file_extension": ".py",
   "mimetype": "text/x-python",
   "name": "python",
   "nbconvert_exporter": "python",
   "pygments_lexer": "ipython3",
   "version": "3.7.4"
  }
 },
 "nbformat": 4,
 "nbformat_minor": 4
}
